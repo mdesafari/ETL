{
 "cells": [
  {
   "cell_type": "markdown",
   "metadata": {},
   "source": [
    "# **Steps to install docker (Windows)**\n",
    "\n",
    "* **Step 1:** Install WSL (Windows Subsystem for Linux) and Ubuntu distribution\n",
    "* **Step 2:** Download and Install Docker Desktop "
   ]
  },
  {
   "cell_type": "markdown",
   "metadata": {},
   "source": [
    "# **1. Install WSL and Ubuntu distribution (default Linux distribution)**"
   ]
  },
  {
   "cell_type": "markdown",
   "metadata": {},
   "source": [
    "## **1.1. What is a distribution**\n",
    "\n",
    "A Linux distribution is a complete set of programs and software based on the Linux operating system. Think of a cake: Linux is like the basic cake recipe. A Linux distribution is like a specific cake with particular ingredients and flavors.\n",
    "\n",
    "Imagine you want to bake a chocolate cake. You can choose different recipes for this cake: one with more chocolate, one with nuts or chocolate chips, or even one with a special icing. Each recipe is a different cast, with unique features and functions.\n",
    "\n",
    "Similarly, a Linux distribution is a specific version of Linux that has been customized by a team of developers. They add specific programs, applications and features to make Linux easier to use and meet users' needs."
   ]
  },
  {
   "cell_type": "markdown",
   "metadata": {},
   "source": [
    "## **1.2. Installation**\n",
    "\n",
    "* Open PowerShell with admin privileges\n",
    "* Check \"wsl --status\". It allows to check that WSL is already installed or not.\n",
    "* If not installed, execute the script below to install WSL \n",
    "\n",
    "`wsl --install`\n",
    "\n",
    "* Update the WSL 2 kernel file\n",
    "\n",
    "`'wsl --update`\n",
    "\n",
    "* define WSL 2 as the default version of WSL\n",
    "\n",
    "`wsl --set-default-version 2`\n",
    "\n",
    "* Now, install the Ubuntu distro\n",
    "\n",
    "`wsl --install -d Ubuntu`\n",
    "\n",
    "* The ubuntu distro will open (or open it yourself), then create user account (username and password)\n",
    "\n",
    "Note: You need to set up a Linux user account every time you add, reinstall or reset a distribution. This user is the admin.\n",
    "\n",
    "> * Launch the Ubuntu application from the Start menu or by typing \"Ubuntu\" in the search bar.\n",
    ">\n",
    "> * Once the Ubuntu shell opens, you'll be prompted to create a new user account. Enter a username for the new account and press Enter. Note that this username will be used as the login name.\n",
    ">\n",
    "> * Next, you'll be prompted to enter a password for the new user. Type a strong password and press Enter. Note that the password will not be displayed on the screen as you type.\n",
    ">\n",
    "> * You'll be asked to re-enter the password for confirmation. Type the password again and press Enter.\n",
    ">\n",
    "> * After confirming the password, the user account will be created.\n",
    "\n",
    "\n",
    "* Execute \"sudo apt update && sudo apt upgrade\"\n",
    "* Check that you have Windows Home (version of your Windows)\n",
    "> * Press Windows + R to open the Run dialog box.\n",
    ">\n",
    ">* Type \"winver\" (without quotation marks) in the Run dialog box, then press Enter or click OK.\n",
    ">\n",
    "> * A window entitled \"About Windows\" will open, displaying information about the version of Windows installed on your system.\n",
    ">\n",
    "> * Look for the line indicating the Windows version, which may look something like this: \"Windows 11 Pro\", \"Windows 11 Enterprise\", \"Windows 11 Home\" or \"Windows 11 Education\".\n",
    "\n",
    "**Note:** Windows Familly = Windows Home\n",
    "\n",
    "* Check that Second Level Address Translation (SLAT) is supported by Windows.\n",
    "\n",
    "For that, open PowerShell and execute: \"systeminfo.exe\" and at the bottom, ensure that Hyper-V is activated. Otherwise, follow this:\n",
    "\n",
    "https://docs.docker.com/desktop/troubleshoot/topics/#virtualization\n",
    "\n",
    "**From here, in your window search bar, type: `Windows Features` and Click on the first option.**\n",
    "\n",
    "Your machine must have the following features for Docker Desktop to function correctly:\n",
    "\n",
    "> * WSL\n",
    "> * Windows Home Virtual Machine Platform\n",
    "\n",
    "**So, check them in the dialog box opened.**\n",
    "\n",
    "* Enable hardware virtualization in BIOS (not available for Windows Home I think, so skip this)\n",
    "\n",
    "https://docs.docker.com/desktop/troubleshoot/topics/#virtualization (same link as previous)"
   ]
  },
  {
   "cell_type": "markdown",
   "metadata": {},
   "source": [
    "# **2. Install Docker Desktop on Windows**"
   ]
  },
  {
   "cell_type": "markdown",
   "metadata": {},
   "source": [
    "## **2.1. Installation**\n",
    "\n",
    "https://docs.docker.com/desktop/install/windows-install/#install-docker-desktop-on-windows\n",
    "\n",
    "> * Download the installer using the download button at the top of the page, or from the release notes.\n",
    "> \n",
    "> * Double-click Docker Desktop Installer.exe to run the installer. By default, Docker Desktop is installed at C:\\Program Files\\Docker\\Docker.\n",
    "> \n",
    "> * Follow the instruction. Once finished, restart the PC\n",
    "> \n",
    "> * Sign up (docker account) using gmail or github (I used github): create a username > * sign in > go back to Docker Desktop > and that's all.\n",
    "> \n",
    "> * In VS Code, download the WSL extension (WSL). You will get a \"remote explorer\" icon.\n",
    "\n",
    "Note that Docker CLI is also locally installed. So, if you open your CMD (on windows), you can use the \"docker\" command and execute some docker commands."
   ]
  },
  {
   "cell_type": "markdown",
   "metadata": {},
   "source": [
    "## **2.2. Containers and Images**\n",
    "\n",
    "Traditionally, to run any application, you had to install the version that matched your machine’s operating system.\n",
    "\n",
    "However, now you can create a single software package, or `container`, that runs on all types of devices and operating systems.\n",
    "\n",
    "`Docker` is a software platform that packages software into `containers`.\n",
    "\n",
    "`Docker images` are read-only templates that contain instructions for creating a `container`.\n",
    "\n",
    "`A Docker image` is a `snapshot` or `blueprint` of the libraries and dependencies required inside a container for an application to run.\n",
    "\n",
    "### **Example:**\n",
    "\n",
    "<img src=\"./images/docker.png\" width=\"600px\" />\n",
    "\n",
    "Let's say you have developed a Python web application using a specific set of dependencies, such as Flask framework and SQLAlchemy library. You have written the code and defined the dependencies in a `requirements.txt` file.\n",
    "\n",
    "**In this scenario:**\n",
    "\n",
    "An image would be a self-contained package that includes the Python interpreter, Flask, SQLAlchemy, and any other dependencies specified in the requirements.txt file.\n",
    "\n",
    "It essentially represents the snapshot of your application's environment.\n",
    "\n",
    "A container would be a running instance of that image. It would provide an isolated environment where your Python web application can execute, serving incoming HTTP requests."
   ]
  },
  {
   "cell_type": "markdown",
   "metadata": {},
   "source": [
    "## **2.3. Use existing docker images: Docker Hub**"
   ]
  },
  {
   "cell_type": "markdown",
   "metadata": {},
   "source": [
    "* In google, type docker hub and pick the first link or click on this: https://hub.docker.com/\n",
    "\n",
    "* In the search bar, type for any service you are looking for. For example, python (interpreter), redis or mongodb, nginx ... (redis is a NoSQL DBS as mongodb is).\n",
    "\n",
    "Let's take nginx. This will list you the available nginx images.\n",
    "\n",
    "> **Note:**\n",
    "> Nginx is a popular web server and reverse proxy server known for its high\n",
    "> performance, scalability, and efficient handling of concurrent connections.\n",
    "\n",
    "* Click on the image (docker official) for example: the page explains how to use it, list of tags, and many other stuffs\n",
    "\n",
    "Note: there are image versionning. Thus, images are versioned (versions are identified by tags: image tags). So, you can run a container for each version. We will use in this example, nginx image (web server).\n",
    "\n",
    "* Pick a specific image tag (or version). Let's take the version 1.25.3 (lastes currently)\n",
    "\n",
    "* Go to your terminal and execute:\n",
    "\n",
    "> docker pull nginx:1.25.3.\n",
    "\n",
    "This will download it locally\n",
    "\n",
    "* Examine the vulnerabilities and recommandations:\n",
    "\n",
    "> docker scout quickview nginx:1.25.3\n",
    "\n",
    "* List the available images:\n",
    "\n",
    "> docker images\n",
    "\n",
    "Now, we will see the downloaded image.\n",
    "\n",
    "* To run an image in a container using the CLI\n",
    "\n",
    "> docker run nginx:1.25.3\n",
    "\n",
    "* Open a new terminal session [powershell or cmd] (do not shut down the container which is currently running), and list containers that are running\n",
    "\n",
    "> docker ps\n"
   ]
  },
  {
   "cell_type": "markdown",
   "metadata": {},
   "source": [
    "## **2.4. Port binding: How to access to your container from another device, client, or whatever you want**\n",
    "\n",
    "Our nginx container run on port 80. If we try to access to the nginx app in our browser (localhost:80), there will be an error (no page). To access the nginx container, make a port binding."
   ]
  },
  {
   "cell_type": "markdown",
   "metadata": {},
   "source": [
    "### **2.4.1. What is a port?**\n",
    "\n",
    "A port is a digital interface that enables a computer or system to communicate with other computers or systems on a network. It can be thought of as a specific input or output port on a computer, associated with a number.\n",
    "\n",
    "Ports are numbered from 0 to 65535. They are used to differentiate between different types of network traffic (e.g. web traffic, e-mail traffic, etc.) and to let computers know which service or application to send incoming data to."
   ]
  },
  {
   "cell_type": "markdown",
   "metadata": {},
   "source": [
    "### **2.4.2. What is a port binding?**\n",
    "\n",
    "In Docker, port binding matches the ports of a Docker container with the ports of the host system on which it is running.\n",
    "\n",
    "When a Docker container is launched, it can listen for network connections on specific ports inside the container. By default, these ports are not accessible directly from the host system.\n",
    "\n",
    "Port binding allows incoming network traffic on a specific port on the host system to be redirected to a specific port on the Docker container. This enables applications or services running in the container to be accessed from the host system or from other machines on the network.\n",
    "\n",
    "For example, if a Docker container is running a web server that listens for connections on port 80, using port binding, we can bind port 80 on the container to port 8080 on the host system. So when the host system's IP address is accessed on port 8080 (example in a browser), traffic is redirected to the container's web server on port 80.\n"
   ]
  },
  {
   "cell_type": "markdown",
   "metadata": {},
   "source": [
    "### **2.4.3. How to port binding?**"
   ]
  },
  {
   "cell_type": "markdown",
   "metadata": {},
   "source": [
    "#### **2.4.3.1. Using CMD / Powershell**\n",
    "\n",
    "* First, stop the running container (if it is running)\n",
    "\n",
    "> docker stop container_short_id (or CTRL + C)\n",
    "> Note: to get the short id, docker ps\n",
    "\n",
    "* Create a new container that port binding port 80 of nginx:1.25.3 to port 9000 (for example) of our localhost machine, using: --publish (or -p)\n",
    "\n",
    "> -p {HOST_PORT}:{CONTAINER_PORT}\n",
    "\n",
    "So, `-p {HOST_PORT}:{CONTAINER_PORT}` expose `CONTAINER_PORT` to our `HOST_PORT`\n",
    "\n",
    "The complete code is:\n",
    "\n",
    "> docker run -d -p 9000:80 nginx:1.25.3\n",
    "\n",
    "\n",
    "* Now, in my web browser, if I type:\n",
    "\n",
    "> localhost:9000 (then Enter)\n",
    "\n",
    "I will see the nginx web server page.\n",
    "\n",
    "> NOTE: Only one service by port. Best practice: Use same port for both container and host (if container port is 80, use 80) Thus, to expose MySQL server container (port 3306) to localhost, use 3306 also.\n",
    "\n",
    "* If you stop the container execution, the port is released for another service (if needed).\n",
    "\n",
    "* To start a container instead of running (thus create a new one), use:\n",
    "\n",
    "> docker start container_short_id\n",
    "\n",
    "* To stop or start (choose one) multiple containers\n",
    "\n",
    "> docker (start | stop) (container_short_id | container_random_name)\n",
    "\n",
    "* Run a container (while giving it a meaningful name)\n",
    "\n",
    "> docker run --name web-app -d -p 9000:80 nginx:1.25.3\n",
    "\n",
    "* To list all containers (running or not)\n",
    "\n",
    "> Use --all (or -a) docker ps -a"
   ]
  },
  {
   "cell_type": "markdown",
   "metadata": {},
   "source": [
    "#### **2.4.3.2. Using docker-compose file**\n",
    "\n",
    "We will see it when configuring Apache Airflow (Orchestration tool)"
   ]
  }
 ],
 "metadata": {
  "kernelspec": {
   "display_name": "Python 3",
   "language": "python",
   "name": "python3"
  },
  "language_info": {
   "codemirror_mode": {
    "name": "ipython",
    "version": 3
   },
   "file_extension": ".py",
   "mimetype": "text/x-python",
   "name": "python",
   "nbconvert_exporter": "python",
   "pygments_lexer": "ipython3",
   "version": "3.12.1"
  }
 },
 "nbformat": 4,
 "nbformat_minor": 2
}
